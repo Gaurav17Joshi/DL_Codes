{
 "cells": [
  {
   "cell_type": "markdown",
   "metadata": {},
   "source": [
    "# Image Captioning with Attention Mechanism\n",
    "\n",
    "This tutorial is insipred from [link](https://github.com/sgrvinod/a-PyTorch-Tutorial-to-Image-Captioning), and [kaggle file](https://www.kaggle.com/code/mdteach/image-captioning-with-attention-pytorch).\n",
    "\n",
    "We will use Attention mechanism in an Encoder-Decoder Architechture to generate captions for images. The Encoder is a pretrained ResNet-152 model, and the Decoder is a LSTM model. The attention mechanism is used to focus on different parts of the image while generating the captions."
   ]
  },
  {
   "cell_type": "code",
   "execution_count": null,
   "metadata": {},
   "outputs": [],
   "source": []
  }
 ],
 "metadata": {
  "language_info": {
   "name": "python"
  }
 },
 "nbformat": 4,
 "nbformat_minor": 2
}
