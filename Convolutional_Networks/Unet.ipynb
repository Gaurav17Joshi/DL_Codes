{
 "cells": [
  {
   "cell_type": "markdown",
   "metadata": {},
   "source": [
    "# Semantic Segmentation using Unets\n",
    "\n",
    "This code is heavily inspired by [link](https://github.com/milesial/Pytorch-UNet), and [kaggle](https://www.kaggle.com/code/balraj98/unet-for-building-segmentation-pytorch)"
   ]
  },
  {
   "cell_type": "code",
   "execution_count": null,
   "metadata": {},
   "outputs": [],
   "source": []
  }
 ],
 "metadata": {
  "language_info": {
   "name": "python"
  }
 },
 "nbformat": 4,
 "nbformat_minor": 2
}
