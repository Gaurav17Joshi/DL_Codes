{
 "cells": [
  {
   "cell_type": "markdown",
   "metadata": {},
   "source": [
    "# GreyScale Image Generation\n",
    "\n",
    "In this notebook, we will be generating MNIST-like image using a Diffusion Model. The model is trained on the MNIST dataset and then used to generate new images. \n",
    "\n",
    "The code is inspired by [link](https://github.com/dome272/Diffusion-Models-pytorch), and [video](https://www.youtube.com/watch?v=TBCRlnwJtZU), and [cars](https://www.youtube.com/watch?v=a4Yfz2FxXiY&t=1078s), and \n",
    "[greyscale](https://github.com/awjuliani/pytorch-diffusion), and [link](https://github.com/rr2203/mnist-diffusion/blob/main/MNIST_diffusion.ipynb), and [link](https://github.com/Jackson-Kang/Pytorch-Diffusion-Model-Tutorial/blob/main/01_denoising_diffusion_probabilistic_model.ipynb)\n"
   ]
  },
  {
   "cell_type": "code",
   "execution_count": null,
   "metadata": {},
   "outputs": [],
   "source": []
  }
 ],
 "metadata": {
  "language_info": {
   "name": "python"
  }
 },
 "nbformat": 4,
 "nbformat_minor": 2
}
